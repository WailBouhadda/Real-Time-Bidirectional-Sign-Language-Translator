{
 "cells": [
  {
   "cell_type": "code",
   "execution_count": 73,
   "id": "85407c26",
   "metadata": {},
   "outputs": [],
   "source": [
    "import mediapipe as mp\n",
    "import os\n",
    "from matplotlib import pyplot as plt\n",
    "import time\n",
    "import cv2\n",
    "from cvzone.HandTrackingModule import HandDetector\n",
    "from tensorflow.keras.models import load_model\n",
    "import numpy as np\n",
    "import tensorflow as tf\n",
    "from tensorflow.keras.preprocessing.image import ImageDataGenerator\n",
    "from tensorflow.keras.layers import Conv2D, MaxPooling2D, Flatten, Dense\n",
    "from tensorflow.keras.models import Sequential"
   ]
  },
  {
   "cell_type": "code",
   "execution_count": 74,
   "id": "1ca49c59",
   "metadata": {},
   "outputs": [],
   "source": [
    "image_path = \"B1963.jpg\"\n"
   ]
  },
  {
   "cell_type": "code",
   "execution_count": null,
   "id": "b4cee7df",
   "metadata": {},
   "outputs": [],
   "source": [
    "if img is not None:\n",
    "    # Display the image (optional)\n",
    "    hands, img = detector.findHands(img)\n",
    "    if hands:\n",
    "        \n",
    "    cv2.imshow('Image', img)\n",
    "    cv2.waitKey(0)\n",
    "    cv2.destroyAllWindows()\n",
    "else:\n",
    "    print(\"Failed to load the image. Please check the file path.\")"
   ]
  },
  {
   "cell_type": "code",
   "execution_count": 84,
   "id": "2cea209b",
   "metadata": {},
   "outputs": [
    {
     "name": "stdout",
     "output_type": "stream",
     "text": [
      "H1 = 4  \n"
     ]
    },
    {
     "ename": "error",
     "evalue": "OpenCV(4.8.0) D:\\a\\opencv-python\\opencv-python\\opencv\\modules\\imgproc\\src\\color.cpp:182: error: (-215:Assertion failed) !_src.empty() in function 'cv::cvtColor'\n",
     "output_type": "error",
     "traceback": [
      "\u001b[1;31m---------------------------------------------------------------------------\u001b[0m",
      "\u001b[1;31merror\u001b[0m                                     Traceback (most recent call last)",
      "Cell \u001b[1;32mIn[84], line 20\u001b[0m\n\u001b[0;32m     15\u001b[0m success, img \u001b[38;5;241m=\u001b[39m cap\u001b[38;5;241m.\u001b[39mread()\n\u001b[0;32m     17\u001b[0m \u001b[38;5;66;03m# Find hands in the current frame\u001b[39;00m\n\u001b[0;32m     18\u001b[0m \u001b[38;5;66;03m# The 'draw' parameter draws landmarks and hand outlines on the image if set to True\u001b[39;00m\n\u001b[0;32m     19\u001b[0m \u001b[38;5;66;03m# The 'flipType' parameter flips the image, making it easier for some detections\u001b[39;00m\n\u001b[1;32m---> 20\u001b[0m hands, img \u001b[38;5;241m=\u001b[39m \u001b[43mdetector\u001b[49m\u001b[38;5;241;43m.\u001b[39;49m\u001b[43mfindHands\u001b[49m\u001b[43m(\u001b[49m\u001b[43mimg\u001b[49m\u001b[43m)\u001b[49m\n\u001b[0;32m     22\u001b[0m \u001b[38;5;66;03m# Check if any hands are detected\u001b[39;00m\n\u001b[0;32m     23\u001b[0m \u001b[38;5;28;01mif\u001b[39;00m hands:\n\u001b[0;32m     24\u001b[0m     \u001b[38;5;66;03m# Information for the first hand detected\u001b[39;00m\n",
      "File \u001b[1;32m~\\anaconda3\\lib\\site-packages\\cvzone\\HandTrackingModule.py:54\u001b[0m, in \u001b[0;36mHandDetector.findHands\u001b[1;34m(self, img, draw, flipType)\u001b[0m\n\u001b[0;32m     47\u001b[0m \u001b[38;5;28;01mdef\u001b[39;00m \u001b[38;5;21mfindHands\u001b[39m(\u001b[38;5;28mself\u001b[39m, img, draw\u001b[38;5;241m=\u001b[39m\u001b[38;5;28;01mTrue\u001b[39;00m, flipType\u001b[38;5;241m=\u001b[39m\u001b[38;5;28;01mTrue\u001b[39;00m):\n\u001b[0;32m     48\u001b[0m     \u001b[38;5;124;03m\"\"\"\u001b[39;00m\n\u001b[0;32m     49\u001b[0m \u001b[38;5;124;03m    Finds hands in a BGR image.\u001b[39;00m\n\u001b[0;32m     50\u001b[0m \u001b[38;5;124;03m    :param img: Image to find the hands in.\u001b[39;00m\n\u001b[0;32m     51\u001b[0m \u001b[38;5;124;03m    :param draw: Flag to draw the output on the image.\u001b[39;00m\n\u001b[0;32m     52\u001b[0m \u001b[38;5;124;03m    :return: Image with or without drawings\u001b[39;00m\n\u001b[0;32m     53\u001b[0m \u001b[38;5;124;03m    \"\"\"\u001b[39;00m\n\u001b[1;32m---> 54\u001b[0m     imgRGB \u001b[38;5;241m=\u001b[39m \u001b[43mcv2\u001b[49m\u001b[38;5;241;43m.\u001b[39;49m\u001b[43mcvtColor\u001b[49m\u001b[43m(\u001b[49m\u001b[43mimg\u001b[49m\u001b[43m,\u001b[49m\u001b[43m \u001b[49m\u001b[43mcv2\u001b[49m\u001b[38;5;241;43m.\u001b[39;49m\u001b[43mCOLOR_BGR2RGB\u001b[49m\u001b[43m)\u001b[49m\n\u001b[0;32m     55\u001b[0m     \u001b[38;5;28mself\u001b[39m\u001b[38;5;241m.\u001b[39mresults \u001b[38;5;241m=\u001b[39m \u001b[38;5;28mself\u001b[39m\u001b[38;5;241m.\u001b[39mhands\u001b[38;5;241m.\u001b[39mprocess(imgRGB)\n\u001b[0;32m     56\u001b[0m     allHands \u001b[38;5;241m=\u001b[39m []\n",
      "\u001b[1;31merror\u001b[0m: OpenCV(4.8.0) D:\\a\\opencv-python\\opencv-python\\opencv\\modules\\imgproc\\src\\color.cpp:182: error: (-215:Assertion failed) !_src.empty() in function 'cv::cvtColor'\n"
     ]
    }
   ],
   "source": [
    "from cvzone.HandTrackingModule import HandDetector\n",
    "import cv2\n",
    "\n",
    "# Initialize the webcam to capture video\n",
    "# The '2' indicates the third camera connected to your computer; '0' would usually refer to the built-in camera\n",
    "cap = cv2.VideoCapture(image_path)\n",
    "\n",
    "# Initialize the HandDetector class with the given parameters\n",
    "detector = HandDetector(staticMode=False, maxHands=2, modelComplexity=1, detectionCon=0.5, minTrackCon=0.5)\n",
    "\n",
    "# Continuously get frames from the webcam\n",
    "while True:\n",
    "    # Capture each frame from the webcam\n",
    "    # 'success' will be True if the frame is successfully captured, 'img' will contain the frame\n",
    "    success, img = cap.read()\n",
    "\n",
    "    # Find hands in the current frame\n",
    "    # The 'draw' parameter draws landmarks and hand outlines on the image if set to True\n",
    "    # The 'flipType' parameter flips the image, making it easier for some detections\n",
    "    hands, img = detector.findHands(img)\n",
    "\n",
    "    # Check if any hands are detected\n",
    "    if hands:\n",
    "        # Information for the first hand detected\n",
    "        hand1 = hands[0]  # Get the first hand detected\n",
    "        lmList1 = hand1[\"lmList\"]  # List of 21 landmarks for the first hand\n",
    "        bbox1 = hand1[\"bbox\"]  # Bounding box around the first hand (x,y,w,h coordinates)\n",
    "        center1 = hand1['center']  # Center coordinates of the first hand\n",
    "        handType1 = hand1[\"type\"]  # Type of the first hand (\"Left\" or \"Right\")\n",
    "\n",
    "        # Count the number of fingers up for the first hand\n",
    "        fingers1 = detector.fingersUp(hand1)\n",
    "        print(f'H1 = {fingers1.count(1)}', end=\" \")  # Print the count of fingers that are up\n",
    "\n",
    "        # Calculate distance between specific landmarks on the first hand and draw it on the image\n",
    "        length, info, img = detector.findDistance(lmList1[8][0:2], lmList1[12][0:2], img, color=(255, 0, 255),\n",
    "                                                  scale=10)\n",
    "\n",
    "        # Check if a second hand is detected\n",
    "        if len(hands) == 2:\n",
    "            # Information for the second hand\n",
    "            hand2 = hands[1]\n",
    "            lmList2 = hand2[\"lmList\"]\n",
    "            bbox2 = hand2[\"bbox\"]\n",
    "            center2 = hand2['center']\n",
    "            handType2 = hand2[\"type\"]\n",
    "\n",
    "            # Count the number of fingers up for the second hand\n",
    "            fingers2 = detector.fingersUp(hand2)\n",
    "            print(f'H2 = {fingers2.count(1)}', end=\" \")\n",
    "\n",
    "            # Calculate distance between the index fingers of both hands and draw it on the image\n",
    "            length, info, img = detector.findDistance(lmList1[8][0:2], lmList2[8][0:2], img, color=(255, 0, 0),\n",
    "                                                      scale=10)\n",
    "\n",
    "        print(\" \")  # New line for better readability of the printed output\n",
    "\n",
    "    # Display the image in a window\n",
    "    cv2.imshow(\"Image\", img)\n",
    "\n",
    "    # Keep the window open and update it for each frame; wait for 1 millisecond between frames\n",
    "    cv2.waitKey(1)"
   ]
  },
  {
   "cell_type": "code",
   "execution_count": 85,
   "id": "9349fb0c",
   "metadata": {},
   "outputs": [],
   "source": [
    "cap.release()\n",
    "cv2.destroyAllWindows()"
   ]
  },
  {
   "cell_type": "code",
   "execution_count": 82,
   "id": "8bfc521e",
   "metadata": {},
   "outputs": [
    {
     "ename": "TypeError",
     "evalue": "list indices must be integers or slices, not str",
     "output_type": "error",
     "traceback": [
      "\u001b[1;31m---------------------------------------------------------------------------\u001b[0m",
      "\u001b[1;31mTypeError\u001b[0m                                 Traceback (most recent call last)",
      "Cell \u001b[1;32mIn[82], line 21\u001b[0m\n\u001b[0;32m     19\u001b[0m \u001b[38;5;28;01mif\u001b[39;00m hands:\n\u001b[0;32m     20\u001b[0m     hand1 \u001b[38;5;241m=\u001b[39m hands[\u001b[38;5;241m0\u001b[39m]\n\u001b[1;32m---> 21\u001b[0m     bbox \u001b[38;5;241m=\u001b[39m \u001b[43mhand1\u001b[49m\u001b[43m[\u001b[49m\u001b[38;5;124;43m\"\u001b[39;49m\u001b[38;5;124;43mbbox\u001b[39;49m\u001b[38;5;124;43m\"\u001b[39;49m\u001b[43m]\u001b[49m  \u001b[38;5;66;03m# Get the bounding box coordinates\u001b[39;00m\n\u001b[0;32m     23\u001b[0m     x, y, w, h \u001b[38;5;241m=\u001b[39m bbox\n\u001b[0;32m     24\u001b[0m     \u001b[38;5;28;01mfor\u001b[39;00m hand \u001b[38;5;129;01min\u001b[39;00m hands:\n",
      "\u001b[1;31mTypeError\u001b[0m: list indices must be integers or slices, not str"
     ]
    }
   ],
   "source": []
  },
  {
   "cell_type": "code",
   "execution_count": 21,
   "id": "dd21bde8",
   "metadata": {},
   "outputs": [],
   "source": []
  },
  {
   "cell_type": "code",
   "execution_count": 28,
   "id": "36a2c089",
   "metadata": {},
   "outputs": [
    {
     "name": "stdout",
     "output_type": "stream",
     "text": [
      "Handedness: [classification {\n",
      "  index: 1\n",
      "  score: 0.8997974991798401\n",
      "  label: \"Right\"\n",
      "}\n",
      "]\n"
     ]
    }
   ],
   "source": []
  },
  {
   "cell_type": "code",
   "execution_count": 29,
   "id": "767f4f29",
   "metadata": {},
   "outputs": [],
   "source": []
  },
  {
   "cell_type": "code",
   "execution_count": null,
   "id": "dd849015",
   "metadata": {},
   "outputs": [],
   "source": []
  }
 ],
 "metadata": {
  "kernelspec": {
   "display_name": "Python 3 (ipykernel)",
   "language": "python",
   "name": "python3"
  },
  "language_info": {
   "codemirror_mode": {
    "name": "ipython",
    "version": 3
   },
   "file_extension": ".py",
   "mimetype": "text/x-python",
   "name": "python",
   "nbconvert_exporter": "python",
   "pygments_lexer": "ipython3",
   "version": "3.10.9"
  }
 },
 "nbformat": 4,
 "nbformat_minor": 5
}
